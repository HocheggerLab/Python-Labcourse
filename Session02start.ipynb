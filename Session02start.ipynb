{
 "cells": [
  {
   "cell_type": "code",
   "execution_count": 4,
   "metadata": {},
   "outputs": [],
   "source": [
    "PPP2R2A = 'atggcaggagctggaggagggaatgatattcagtggtgtttttctcaggtgaaaggagcagtagatgatgatgtagcagaagcagatataatttctacagtagaatttaatcattctggagaattactagcaacaggagataaaggtggtagagttgtcatctttcaacaggagcaggagaacaaaatccagtctcatagcagaggagaatataatgtttacagcaccttccagagccatgaaccagagtttgactacttgaaaagtttagaaatagaagaaaagatcaacaaaattaggtggttaccccagaaaaatgctgctcagtttttattgtctaccaatgataaaacaataaaattatggaaaatcagtgaaagggacaaaagaccagaagggtataacttgaaagaggaggatggaaggtatagagatcctactacagttactacactacgagtgccagtctttaggcctatggatctaatggttgaggccagtccacgaagaatatttgccaatgctcatacatatcacatcaactcaatttctattaatagtgattatgaaacatatttatctgcagatgatttgcggattaatctttggcatctggaaattacagacaggagttttaacattgtggatatcaagcctgccaatatggaagagctaacagaggtgattacagcagcagaatttcatccaaacagctgtaacacatttgtatacagcagcagtaaaggaactattcggctatgtgacatgagggcatctgccctctgtgatagacattctaaattgtttgaagaacctgaagatcccagtaacaggtcatttttttccgaaatcatctcctctatttcggatgtaaaattcagccatagtggtcgatatatgatgactagagactatttgtcagtcaaaatttgggacttaaatatggaaaacaggcctgtggaaacataccaggtgcatgaatacctcagaagtaaactctgttcactgtatgaaaatgactgcatatttgacaaatttgaatgttgttggaatggatctgacagtgttgtcatgactggatcttacaataatttcttcagaatgtttgacagaaacacaaagcgagacataaccctagaagcatcgcgggaaaacaataagcctcgcacagttctgaagcctcgcaaagtctgtgcaagtggcaagcgaaagaaagatgaaataagtgttgacagcctagacttcaataagaaaatccttcacacagcctggcaccccaaggaaaatatcattgccgtagctactacaaacaatctgtatatatttcaagacaaagtgaattag'\n",
    "PPP2R2B = 'atgcttctctcgttacctgccttacatcttcagacctccgaacaccatcctttcttccagctgccacacagaaggctcggaccatggtgcagtcccactggctcccctgcccccctctcctgtgagactggctgcggggagggatcatggatacttgtctgccggcttctggttcccacgcaagtaagcctgctgtcaatggaggaggacattgatacccgcaaaatcaacaacagtttcctgcgcgaccacagctatgcgaccgaagctgacattatctctacggtagaattcaaccacacgggagaattactagcgacaggggacaaggggggtcgggttgtaatatttcaacgagagcaggagagtaaaaatcaggttcatcgtaggggtgaatacaatgtttacagcacattccagagccatgaacccgagttcgattacctgaagagtttagaaatagaagaaaaaatcaataaaataagatggctcccccagcagaatgcagcttactttcttctgtctactaatgataaaactgtgaagctgtggaaagtcagcgagcgtgataagaggccagaaggctacaatctgaaagatgaggagggccggctccgggatcctgccaccatcacaaccctgcgggtgcctgtcctgagacccatggacctgatggtggaggccaccccacgaagagtatttgccaacgcacacacatatcacatcaactccatatctgtcaacagcgactatgaaacctacatgtccgctgatgacctgaggattaacctatggaactttgaaataaccaatcaaagttttaatattgtggacattaagccagccaacatggaggagctcacggaggtgatcacagcagccgagttccacccccatcattgcaacaccttcgtgtacagcagcagcaaagggacaatccggctgtgtgacatgcgggcatctgccctgtgtgacaggcacaccaaattttttgaagagccggaagatccaagcaacagatcatttttctctgaaattatctcttcgatttcggatgtgaagttcagccacagtgggaggtatatcatgaccagggactacttgaccgtcaaagtctgggatctcaacatggaaaaccgccccatcgagacttaccaggttcatgactacctccgcagcaagctgtgttccctctatgaaaatgactgcatttttgataaatttgagtgtgtgtggaatgggtcagacagtgtcatcatgacaggctcctacaacaacttcttcaggatgttcgacagaaacaccaagcgtgatgtgacccttgaggcttcgagggaaaacagcaagccccgggctatcctcaaaccccgaaaagtgtgtgtggggggcaagcggagaaaagacgagatcagtgtcgacagtctggactttagcaaaaagatcttgcatacagcttggcatccttcagaaaatattatagcagtggcggctacaaataacctatatatattccaggacaaggttaactag'\n",
    "PPP2R2C = 'atgggcgaggacacggacacgcggaaaattaaccacagcttcctgcgggaccacagctatgtgactgaagctgacatcatctctaccgttgagttcaaccacacgggagagctgctggccacaggtgacaagggcggccgggtcgtcatcttccagcgggaaccagagagtaaaaatgcgccccacagccagggcgaatacgacgtgtacagcactttccagagccacgagccggagtttgactatctcaagagcctggagatagaggagaagatcaacaagatcaagtggctcccacagcagaacgccgcccactcactcctgtccaccaacgataaaactatcaaattatggaagattaccgaacgagataaaaggcccgaaggatacaacctgaaggatgaagaggggaaacttaaggacctgtccacggtgacgtcactgcaggtgccagtgctgaagcccatggatctgatggtggaggtgagccctcggaggatctttgccaatggccacacctaccacatcaactccatctccgtcaacagtgactgcgagacctacatgtcggcggatgacctgcgcatcaacctctggcacctggccatcaccgacaggagcttcaacatcgtggacatcaagccggccaacatggaggaccttacggaggtgatcacagcatctgagttccatccgcaccactgcaacctcttcgtctacagcagcagcaagggctccctgcggctctgcgacatgcgggcagctgccctgtgtgacaagcattccaagctctttgaagagcctgaggaccccagtaaccgctcattcttctcggaaatcatctcctccgtgtccgacgtgaagttcagccacagcggccgctacatgctcacccgggactaccttacagtcaaggtctgggacctgaacatggaggcaagacccatagagacctaccaggtccatgactaccttcggagcaagctctgttccctgtacgagaacgactgcattttcgacaagtttgaatgtgcctggaacgggagcgacagcgtcatcatgaccggggcctacaacaacttcttccgcatgttcgatcggaacaccaagcgggacgtgaccctggaggcctcgagggaaagcagcaagccccgggctgtgctcaagccacggcgcgtgtgcgtggggggcaagcgccggcgtgatgacatcagtgtggacagcttggacttcaccaagaagatcctgcacacggcctggcacccggctgagaacatcattgccatcgccgccaccaacaacctgtacatcttccaggacaaggtaaactctgacatgcactag'\n",
    "PPP2R2D = 'atggcaggagccggaggcggcggctgccccgcgggcggcaacgacttccagtggtgcttctcgcaggtcaagggggccatcgacgaggacgtggccgaagcggacatcatttccaccgttgagtttaattactctggagatcttcttgcaacaggagacaagggcggcagagttgttatttttcagcgtgaacaagagaataaaagccgccctcattctaggggagaatataatgtttacagcacctttcaaagtcatgaaccggagtttgactatttgaaaagtctagaaattgaggaaaaaattaataaaattaggtggttaccacaacagaatgctgctcattttctactgtctacaaatgataaaactataaaattatggaaaataagtgaacgggataaaagagcagaaggttataacctgaaagacgaagatggaagacttcgagacccatttaggatcacggcgctacgggtcccaatattgaagcccatggatcttatggtagaagcgagtccacggcgaatttttgcaaatgctcacacatatcatataaattccatttcagtaaatagtgatcatgaaacatatctttctgcagatgacctgagaattaatttatggcacttagaaatcacagatagaagctttaacatcgtggacatcaagcctgctaacatggaggagctgaccgaagtcatcactgcagccgagttccacccgcaccagtgcaacgtgttcgtctacagcagtagcaaagggaccatccgcctgtgtgacatgcgctcctcggccctgtgcgacagacactccaagttttttgaagagcctgaagatcccagcagtaggtccttcttctcagaaataatttcatccatatccgatgtaaaattcagtcatagtgggcggtacatgatgaccagagactacctgtcggtgaaggtgtgggacctcaacatggagagcaggccggtggagacccaccaggtccacgagtacctgcgcagcaagctctgctctctctatgagaacgactgcatctttgacaagtttgagtgttgctggaacggttcggatagcgccatcatgaccgggtcctataacaacttcttcaggatgtttgatagagacacgcggagggatgtgaccctggaggcctcgagagagagcagcaaaccgcgcgccagcctcaaaccccggaaggtgtgtacggggggtaagcggaggaaagacgagatcagtgtggacagtctggacttcaacaagaagatcctgcacacagcctggcaccccgtggacaatgtcattgccgtggctgccaccaataacttgtacatattccaggacaaaatcaactag'"
   ]
  },
  {
   "attachments": {},
   "cell_type": "markdown",
   "metadata": {},
   "source": [
    "## Storing data in python\n",
    "The following data structures are available to store and process groups of data (there are more advanced options as well...!)\n",
    "- Lists\n",
    "- Tuples\n",
    "- Sets\n",
    "- Dictionaries"
   ]
  },
  {
   "attachments": {},
   "cell_type": "markdown",
   "metadata": {},
   "source": [
    "## Lists\n",
    "- Lists are ordered.\n",
    "- Lists can contain any arbitrary objects.\n",
    "- List elements can be accessed by index.\n",
    "- Lists can be nested to arbitrary depth.\n",
    "- Lists are mutable.\n",
    "- Lists are dynamic.\n"
   ]
  },
  {
   "attachments": {},
   "cell_type": "markdown",
   "metadata": {},
   "source": [
    "## For Loops\n",
    "Access each item in an \"iterable\" and do something with it\n",
    "Works well with lists, but many other use cases (e.g. range function)\n",
    "\n",
    "\n",
    "\n",
    "    "
   ]
  },
  {
   "attachments": {},
   "cell_type": "markdown",
   "metadata": {},
   "source": [
    "## Dictionaries\n",
    "Dictionaries are Python’s implementation of a data structure that is more generally known as an associative array. A dictionary consists of a collection of key-value pairs. Each key-value pair maps the key to its associated value.\n",
    "You can define a dictionary by enclosing a comma-separated list of key-value pairs in curly braces ({}). A colon (:) separates each key from its associated value:"
   ]
  },
  {
   "cell_type": "code",
   "execution_count": 5,
   "metadata": {},
   "outputs": [],
   "source": [
    "genetic_code = {\n",
    "    'Ala': ['GCU','GCA','GCC','GCG'],\n",
    "    'Gly': ['GGU','GGA','GGC','GGG'],\n",
    "    'Val': ['GUU','GUA','GUC','GUG'],\n",
    "    'Thr': ['ACU','ACA','ACC','ACG'],\n",
    "    'Arg': ['CGU','CGA','CGC','CGG'],\n",
    "    'Pro': ['CCU','CCA','CCC','CCG'],\n",
    "    'Leu': ['CUU','CUA','CUC','CUG'],\n",
    "    'Ser': ['UCU','UCA','UCC','UCG'],\n",
    "    'Ile': ['AUU','AUC','AUA','UCG'],\n",
    "    'Phe': ['UUU','UUC'],\n",
    "    'Leu': ['UUA','UUG'],\n",
    "    'Tyr': ['UAU','UAC'],\n",
    "    'His': ['CAU','CAC'],\n",
    "    'Gln': ['CAA','CAG'],\n",
    "    'Asn': ['AAU','AAC'],\n",
    "    'Lys': ['AAA','AAG'],\n",
    "    'Ser': ['AGU','AGC'],\n",
    "    'Arg': ['AGA','AGG'],\n",
    "    'Asp': ['GAU','GAC'],\n",
    "    'Glu': ['GAA','GAG'],\n",
    "    'Met': ['AUG'],\n",
    "    'Trp': ['UGG'],\n",
    "    'STOP': ['UAA', 'UAG', 'UGA']    \n",
    "}"
   ]
  },
  {
   "attachments": {},
   "cell_type": "markdown",
   "metadata": {},
   "source": [
    "## Excercises\n",
    "With the dictionary below: For each ORF generate a new dictionary with information on length of the ORF, GC content, melting_temperature, and nucleotide and protein sequence\n",
    "Optional, can you figure out a way to calculate the % identical amino-acids between two paralogues?"
   ]
  },
  {
   "cell_type": "code",
   "execution_count": 6,
   "metadata": {},
   "outputs": [],
   "source": [
    "B55_paralogues = {\n",
    "    'B55_alpha': PPP2R2A,\n",
    "    'B55_beta': PPP2R2B,\n",
    "    'B55_gamma': PPP2R2C,\n",
    "    'B55_gamma': PPP2R2D,\n",
    "}"
   ]
  },
  {
   "cell_type": "code",
   "execution_count": null,
   "metadata": {},
   "outputs": [],
   "source": []
  }
 ],
 "metadata": {
  "kernelspec": {
   "display_name": "Python 3",
   "language": "python",
   "name": "python3"
  },
  "language_info": {
   "codemirror_mode": {
    "name": "ipython",
    "version": 3
   },
   "file_extension": ".py",
   "mimetype": "text/x-python",
   "name": "python",
   "nbconvert_exporter": "python",
   "pygments_lexer": "ipython3",
   "version": "3.11.0"
  },
  "orig_nbformat": 4,
  "vscode": {
   "interpreter": {
    "hash": "57acf2c8ba21b6d9cbc24e410e9c73ba3109a7307561cd137bdcdcdf604d9154"
   }
  }
 },
 "nbformat": 4,
 "nbformat_minor": 2
}
