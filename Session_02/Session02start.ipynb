{
 "cells": [
  {
   "cell_type": "code",
   "execution_count": 2,
   "metadata": {},
   "outputs": [],
   "source": [
    "PPP2R2A = 'atggcaggagctggaggagggaatgatattcagtggtgtttttctcaggtgaaaggagcagtagatgatgatgtagcagaagcagatataatttctacagtagaatttaatcattctggagaattactagcaacaggagataaaggtggtagagttgtcatctttcaacaggagcaggagaacaaaatccagtctcatagcagaggagaatataatgtttacagcaccttccagagccatgaaccagagtttgactacttgaaaagtttagaaatagaagaaaagatcaacaaaattaggtggttaccccagaaaaatgctgctcagtttttattgtctaccaatgataaaacaataaaattatggaaaatcagtgaaagggacaaaagaccagaagggtataacttgaaagaggaggatggaaggtatagagatcctactacagttactacactacgagtgccagtctttaggcctatggatctaatggttgaggccagtccacgaagaatatttgccaatgctcatacatatcacatcaactcaatttctattaatagtgattatgaaacatatttatctgcagatgatttgcggattaatctttggcatctggaaattacagacaggagttttaacattgtggatatcaagcctgccaatatggaagagctaacagaggtgattacagcagcagaatttcatccaaacagctgtaacacatttgtatacagcagcagtaaaggaactattcggctatgtgacatgagggcatctgccctctgtgatagacattctaaattgtttgaagaacctgaagatcccagtaacaggtcatttttttccgaaatcatctcctctatttcggatgtaaaattcagccatagtggtcgatatatgatgactagagactatttgtcagtcaaaatttgggacttaaatatggaaaacaggcctgtggaaacataccaggtgcatgaatacctcagaagtaaactctgttcactgtatgaaaatgactgcatatttgacaaatttgaatgttgttggaatggatctgacagtgttgtcatgactggatcttacaataatttcttcagaatgtttgacagaaacacaaagcgagacataaccctagaagcatcgcgggaaaacaataagcctcgcacagttctgaagcctcgcaaagtctgtgcaagtggcaagcgaaagaaagatgaaataagtgttgacagcctagacttcaataagaaaatccttcacacagcctggcaccccaaggaaaatatcattgccgtagctactacaaacaatctgtatatatttcaagacaaagtgaattag'\n",
    "PPP2R2B = 'atgcttctctcgttacctgccttacatcttcagacctccgaacaccatcctttcttccagctgccacacagaaggctcggaccatggtgcagtcccactggctcccctgcccccctctcctgtgagactggctgcggggagggatcatggatacttgtctgccggcttctggttcccacgcaagtaagcctgctgtcaatggaggaggacattgatacccgcaaaatcaacaacagtttcctgcgcgaccacagctatgcgaccgaagctgacattatctctacggtagaattcaaccacacgggagaattactagcgacaggggacaaggggggtcgggttgtaatatttcaacgagagcaggagagtaaaaatcaggttcatcgtaggggtgaatacaatgtttacagcacattccagagccatgaacccgagttcgattacctgaagagtttagaaatagaagaaaaaatcaataaaataagatggctcccccagcagaatgcagcttactttcttctgtctactaatgataaaactgtgaagctgtggaaagtcagcgagcgtgataagaggccagaaggctacaatctgaaagatgaggagggccggctccgggatcctgccaccatcacaaccctgcgggtgcctgtcctgagacccatggacctgatggtggaggccaccccacgaagagtatttgccaacgcacacacatatcacatcaactccatatctgtcaacagcgactatgaaacctacatgtccgctgatgacctgaggattaacctatggaactttgaaataaccaatcaaagttttaatattgtggacattaagccagccaacatggaggagctcacggaggtgatcacagcagccgagttccacccccatcattgcaacaccttcgtgtacagcagcagcaaagggacaatccggctgtgtgacatgcgggcatctgccctgtgtgacaggcacaccaaattttttgaagagccggaagatccaagcaacagatcatttttctctgaaattatctcttcgatttcggatgtgaagttcagccacagtgggaggtatatcatgaccagggactacttgaccgtcaaagtctgggatctcaacatggaaaaccgccccatcgagacttaccaggttcatgactacctccgcagcaagctgtgttccctctatgaaaatgactgcatttttgataaatttgagtgtgtgtggaatgggtcagacagtgtcatcatgacaggctcctacaacaacttcttcaggatgttcgacagaaacaccaagcgtgatgtgacccttgaggcttcgagggaaaacagcaagccccgggctatcctcaaaccccgaaaagtgtgtgtggggggcaagcggagaaaagacgagatcagtgtcgacagtctggactttagcaaaaagatcttgcatacagcttggcatccttcagaaaatattatagcagtggcggctacaaataacctatatatattccaggacaaggttaactag'\n",
    "PPP2R2C = 'atgggcgaggacacggacacgcggaaaattaaccacagcttcctgcgggaccacagctatgtgactgaagctgacatcatctctaccgttgagttcaaccacacgggagagctgctggccacaggtgacaagggcggccgggtcgtcatcttccagcgggaaccagagagtaaaaatgcgccccacagccagggcgaatacgacgtgtacagcactttccagagccacgagccggagtttgactatctcaagagcctggagatagaggagaagatcaacaagatcaagtggctcccacagcagaacgccgcccactcactcctgtccaccaacgataaaactatcaaattatggaagattaccgaacgagataaaaggcccgaaggatacaacctgaaggatgaagaggggaaacttaaggacctgtccacggtgacgtcactgcaggtgccagtgctgaagcccatggatctgatggtggaggtgagccctcggaggatctttgccaatggccacacctaccacatcaactccatctccgtcaacagtgactgcgagacctacatgtcggcggatgacctgcgcatcaacctctggcacctggccatcaccgacaggagcttcaacatcgtggacatcaagccggccaacatggaggaccttacggaggtgatcacagcatctgagttccatccgcaccactgcaacctcttcgtctacagcagcagcaagggctccctgcggctctgcgacatgcgggcagctgccctgtgtgacaagcattccaagctctttgaagagcctgaggaccccagtaaccgctcattcttctcggaaatcatctcctccgtgtccgacgtgaagttcagccacagcggccgctacatgctcacccgggactaccttacagtcaaggtctgggacctgaacatggaggcaagacccatagagacctaccaggtccatgactaccttcggagcaagctctgttccctgtacgagaacgactgcattttcgacaagtttgaatgtgcctggaacgggagcgacagcgtcatcatgaccggggcctacaacaacttcttccgcatgttcgatcggaacaccaagcgggacgtgaccctggaggcctcgagggaaagcagcaagccccgggctgtgctcaagccacggcgcgtgtgcgtggggggcaagcgccggcgtgatgacatcagtgtggacagcttggacttcaccaagaagatcctgcacacggcctggcacccggctgagaacatcattgccatcgccgccaccaacaacctgtacatcttccaggacaaggtaaactctgacatgcactag'\n",
    "PPP2R2D = 'atggcaggagccggaggcggcggctgccccgcgggcggcaacgacttccagtggtgcttctcgcaggtcaagggggccatcgacgaggacgtggccgaagcggacatcatttccaccgttgagtttaattactctggagatcttcttgcaacaggagacaagggcggcagagttgttatttttcagcgtgaacaagagaataaaagccgccctcattctaggggagaatataatgtttacagcacctttcaaagtcatgaaccggagtttgactatttgaaaagtctagaaattgaggaaaaaattaataaaattaggtggttaccacaacagaatgctgctcattttctactgtctacaaatgataaaactataaaattatggaaaataagtgaacgggataaaagagcagaaggttataacctgaaagacgaagatggaagacttcgagacccatttaggatcacggcgctacgggtcccaatattgaagcccatggatcttatggtagaagcgagtccacggcgaatttttgcaaatgctcacacatatcatataaattccatttcagtaaatagtgatcatgaaacatatctttctgcagatgacctgagaattaatttatggcacttagaaatcacagatagaagctttaacatcgtggacatcaagcctgctaacatggaggagctgaccgaagtcatcactgcagccgagttccacccgcaccagtgcaacgtgttcgtctacagcagtagcaaagggaccatccgcctgtgtgacatgcgctcctcggccctgtgcgacagacactccaagttttttgaagagcctgaagatcccagcagtaggtccttcttctcagaaataatttcatccatatccgatgtaaaattcagtcatagtgggcggtacatgatgaccagagactacctgtcggtgaaggtgtgggacctcaacatggagagcaggccggtggagacccaccaggtccacgagtacctgcgcagcaagctctgctctctctatgagaacgactgcatctttgacaagtttgagtgttgctggaacggttcggatagcgccatcatgaccgggtcctataacaacttcttcaggatgtttgatagagacacgcggagggatgtgaccctggaggcctcgagagagagcagcaaaccgcgcgccagcctcaaaccccggaaggtgtgtacggggggtaagcggaggaaagacgagatcagtgtggacagtctggacttcaacaagaagatcctgcacacagcctggcaccccgtggacaatgtcattgccgtggctgccaccaataacttgtacatattccaggacaaaatcaactag'"
   ]
  },
  {
   "cell_type": "code",
   "execution_count": 5,
   "metadata": {},
   "outputs": [
    {
     "name": "stdout",
     "output_type": "stream",
     "text": [
      "the GC content of PP@RA is 38.54166666666667\n"
     ]
    }
   ],
   "source": [
    "g_number = PPP2R2A.count('g')\n",
    "c_number = PPP2R2A.count('c')\n",
    "alpha_length = len(PPP2R2A)\n",
    "\n",
    "alpha_GC = (g_number + c_number)/alpha_length*100\n",
    "print(f\"the GC content of PPP2RA is {alpha_GC}\")"
   ]
  },
  {
   "cell_type": "markdown",
   "metadata": {},
   "source": [
    "## Storing data in python\n",
    "The following data structures are available to store and process groups of data (there are more advanced options as well...!)\n",
    "- Lists\n",
    "- Tuples\n",
    "- Sets\n",
    "- Dictionaries"
   ]
  },
  {
   "cell_type": "code",
   "execution_count": null,
   "metadata": {},
   "outputs": [],
   "source": []
  },
  {
   "cell_type": "markdown",
   "metadata": {},
   "source": [
    "## Lists\n",
    "- Lists are ordered.\n",
    "- Lists can contain any arbitrary objects.\n",
    "- List elements can be accessed by index.\n",
    "- Lists can be nested to arbitrary depth.\n",
    "- Lists are mutable.\n",
    "- Lists are dynamic.\n"
   ]
  },
  {
   "cell_type": "code",
   "execution_count": 19,
   "metadata": {},
   "outputs": [
    {
     "name": "stdout",
     "output_type": "stream",
     "text": [
      "['tomatoes', 'spam', 'eggs']\n",
      "['tomatoes', 'spam', 'eggs', 'bacon']\n",
      "['bacon', 'spam', 'eggs', 23456789, True, 'tomatoes', 'spam', 'eggs', 'bacon']\n"
     ]
    }
   ],
   "source": [
    "sample_list = ['bacon', 'spam', 'eggs']\n",
    "# lists are ordered\n",
    "sample_list[-1]\n",
    "\n",
    "# Lists can contain any arbitrary objects.\n",
    "sample_2 = ['bacon', 'spam', 'eggs', 23456789, True]\n",
    "sample_2[3]\n",
    "# Lists can be nested.\n",
    "new_list = [sample_list, sample_2]\n",
    "new_list[0][0]\n",
    "# Lists are mutable\n",
    "sample_list[0] = 'tomatoes'\n",
    "print(sample_list)\n",
    "# Lists are dynamic\n",
    "sample_list.append('bacon')\n",
    "print(sample_list)\n",
    "added_list = sample_2 + sample_list\n",
    "print(added_list)"
   ]
  },
  {
   "cell_type": "markdown",
   "metadata": {},
   "source": [
    "## For Loops\n",
    "Access each item in an \"iterable\" and do something with it\n",
    "Works well with lists, but many other use cases (e.g. range function)\n",
    "\n",
    "\n",
    "\n",
    "    "
   ]
  },
  {
   "cell_type": "code",
   "execution_count": 23,
   "metadata": {},
   "outputs": [
    {
     "name": "stdout",
     "output_type": "stream",
     "text": [
      "the GC content is 38.54166666666667\n",
      "the GC content is 48.69281045751634\n",
      "the GC content is 56.175595238095234\n",
      "the GC content is 48.31130690161527\n"
     ]
    }
   ],
   "source": [
    "B55 = [PPP2R2A, PPP2R2B, PPP2R2C, PPP2R2D]\n",
    "\n",
    "for gene in B55:\n",
    "    g_number = gene.count('g')\n",
    "    c_number = gene.count('c')\n",
    "    alpha_length = len(gene)\n",
    "\n",
    "    alpha_GC = (g_number + c_number)/alpha_length*100\n",
    "    print(f\"the GC content is {alpha_GC}\")"
   ]
  },
  {
   "cell_type": "markdown",
   "metadata": {},
   "source": [
    "## Dictionaries\n",
    "Dictionaries are Python’s implementation of a data structure that is more generally known as an associative array. A dictionary consists of a collection of key-value pairs. Each key-value pair maps the key to its associated value.\n",
    "You can define a dictionary by enclosing a comma-separated list of key-value pairs in curly braces ({}). A colon (:) separates each key from its associated value:"
   ]
  },
  {
   "cell_type": "code",
   "execution_count": 24,
   "metadata": {},
   "outputs": [],
   "source": [
    "fruits = {\n",
    "    'apple': 1, \n",
    "    'mango': 2\n",
    "}"
   ]
  },
  {
   "cell_type": "code",
   "execution_count": 25,
   "metadata": {},
   "outputs": [
    {
     "data": {
      "text/plain": [
       "1"
      ]
     },
     "execution_count": 25,
     "metadata": {},
     "output_type": "execute_result"
    }
   ],
   "source": [
    "fruits['apple']"
   ]
  },
  {
   "cell_type": "code",
   "execution_count": 27,
   "metadata": {
    "scrolled": true
   },
   "outputs": [
    {
     "name": "stdout",
     "output_type": "stream",
     "text": [
      "dict_keys(['apple', 'mango'])\n"
     ]
    }
   ],
   "source": [
    "print(fruits.keys())"
   ]
  },
  {
   "cell_type": "code",
   "execution_count": 28,
   "metadata": {},
   "outputs": [
    {
     "name": "stdout",
     "output_type": "stream",
     "text": [
      "dict_values([1, 2])\n"
     ]
    }
   ],
   "source": [
    "print(fruits.values())"
   ]
  },
  {
   "cell_type": "code",
   "execution_count": 30,
   "metadata": {},
   "outputs": [
    {
     "name": "stdout",
     "output_type": "stream",
     "text": [
      "1\n",
      "2\n"
     ]
    }
   ],
   "source": [
    "for key in fruits:\n",
    "    print(fruits[key])"
   ]
  },
  {
   "cell_type": "code",
   "execution_count": 47,
   "metadata": {},
   "outputs": [],
   "source": [
    "genetic_code = {\n",
    "    'Ala': ['GCU','GCA','GCC','GCG'],\n",
    "    'Gly': ['GGU','GGA','GGC','GGG'],\n",
    "    'Val': ['GUU','GUA','GUC','GUG'],\n",
    "    'Thr': ['ACU','ACA','ACC','ACG'],\n",
    "    'Arg': ['CGU','CGA','CGC','CGG'],\n",
    "    'Pro': ['CCU','CCA','CCC','CCG'],\n",
    "    'Leu': ['CUU','CUA','CUC','CUG'],\n",
    "    'Ser': ['UCU','UCA','UCC','UCG'],\n",
    "    'Ile': ['AUU','AUC','AUA','UCG'],\n",
    "    'Phe': ['UUU','UUC'],\n",
    "    'Leu': ['UUA','UUG'],\n",
    "    'Tyr': ['UAU','UAC'],\n",
    "    'His': ['CAU','CAC'],\n",
    "    'Gln': ['CAA','CAG'],\n",
    "    'Asn': ['AAU','AAC'],\n",
    "    'Lys': ['AAA','AAG'],\n",
    "    'Ser': ['AGU','AGC'],\n",
    "    'Arg': ['AGA','AGG'],\n",
    "    'Asp': ['GAU','GAC'],\n",
    "    'Glu': ['GAA','GAG'],\n",
    "    'Met': ['AUG'],\n",
    "    'Trp': ['UGG'],\n",
    "    'STOP': ['UAA', 'UAG', 'UGA']    \n",
    "}"
   ]
  },
  {
   "cell_type": "code",
   "execution_count": 53,
   "metadata": {},
   "outputs": [
    {
     "name": "stdout",
     "output_type": "stream",
     "text": [
      "MetAlaGlyAlaGlyGlyGlyAsnAspIleGlnTrpPheGlnValLysGlyAlaValAspAspAspValAlaGluAlaAspIleIleThrValGluPheAsnHisGlyGluLeuAlaThrGlyAspLysGlyGlyArgValValIlePheGlnGlnGluGlnGluAsnLysIleGlnHisSerArgGlyGluTyrAsnValTyrSerThrPheGlnSerHisGluProGluPheAspTyrLeuLysSerLeuGluIleGluGluLysIleAsnLysIleArgTrpLeuProGlnLysAsnAlaAlaGlnPheLeuLeuThrAsnAspLysThrIleLysLeuTrpLysIleSerGluArgAspLysArgProGluGlyTyrAsnLeuLysGluGluAspGlyArgTyrArgAspProThrThrValThrThrValProValPheArgProMetAspMetValGluAlaSerProArgIlePheAlaAsnAlaHisThrTyrHisIleAsnIleIleAsnSerAspTyrGluThrTyrLeuAlaAspAspLeuIleAsnTrpHisGluIleThrAspArgSerPheAsnIleValAspIleLysProAlaAsnMetGluGluThrGluValIleThrAlaAlaGluPheHisProAsnSerAsnThrPheValTyrSerSerSerLysGlyThrIleAspMetArgAlaAlaAspArgHisLysLeuPheGluGluProGluAspProSerAsnArgPhePheGluIleIleIleIleAspValLysPheSerHisSerGlyTyrMetMetThrArgAspTyrLeuValLysIleTrpAspLeuAsnMetGluAsnArgProValGluThrTyrGlnValHisGluTyrArgSerLysTyrGluAsnAspIlePheAspLysPheGluTrpAsnGlyAspSerValValMetThrGlyTyrAsnAsnPhePheArgMetPheAspArgAsnThrLysAspIleThrGluAlaIleGluAsnAsnLysProThrValLysProLysValAlaSerGlyLysLysLysAspGluIleSerValAspSerAspPheAsnLysLysIleHisThrAlaTrpHisProLysGluAsnIleIleAlaValAlaThrThrAsnAsnTyrIlePheGlnAspLysValAsnSTOP\n"
     ]
    }
   ],
   "source": [
    "B55_alpha = ''\n",
    "for i in range(int(len(PPP2R2A)/3)):\n",
    "    codon = PPP2R2A[i*3:i*3+3].upper()\n",
    "    codon_r = codon.replace('T', 'U')\n",
    "    for key in genetic_code:\n",
    "        if codon_r in genetic_code[key]:\n",
    "            B55_alpha += key\n",
    "print(B55_alpha)"
   ]
  },
  {
   "cell_type": "markdown",
   "metadata": {},
   "source": [
    "## Excercises\n",
    "With the dictionary below: For each ORF generate a new dictionary with information on length of the ORF, GC content, melting_temperature, and nucleotide and protein sequence\n",
    "Optional, can you figure out a way to calculate the % identical amino-acids between two paralogues?"
   ]
  },
  {
   "cell_type": "code",
   "execution_count": 6,
   "metadata": {},
   "outputs": [],
   "source": [
    "B55_paralogues = {\n",
    "    'B55_alpha': PPP2R2A,\n",
    "    'B55_beta': PPP2R2B,\n",
    "    'B55_gamma': PPP2R2C,\n",
    "    'B55_gamma': PPP2R2D,\n",
    "}"
   ]
  },
  {
   "cell_type": "code",
   "execution_count": null,
   "metadata": {},
   "outputs": [],
   "source": []
  }
 ],
 "metadata": {
  "kernelspec": {
   "display_name": "Python 3 (ipykernel)",
   "language": "python",
   "name": "python3"
  },
  "language_info": {
   "codemirror_mode": {
    "name": "ipython",
    "version": 3
   },
   "file_extension": ".py",
   "mimetype": "text/x-python",
   "name": "python",
   "nbconvert_exporter": "python",
   "pygments_lexer": "ipython3",
   "version": "3.10.8"
  },
  "vscode": {
   "interpreter": {
    "hash": "57acf2c8ba21b6d9cbc24e410e9c73ba3109a7307561cd137bdcdcdf604d9154"
   }
  }
 },
 "nbformat": 4,
 "nbformat_minor": 2
}
