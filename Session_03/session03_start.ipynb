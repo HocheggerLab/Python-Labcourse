{
 "cells": [
  {
   "attachments": {},
   "cell_type": "markdown",
   "metadata": {},
   "source": [
    "# Session 03\n",
    "Today we will analysing expression data from melanoma samples. \n",
    "We will import data from a csv file using pandas (this will be covered in much more detail later)\n",
    "and build a dictionary to collect information on gene names, gene length and sequencing counts for 10 patient samples.\n",
    "You first need to install the pandas library in your environment. Use this command in the terminal after activating the environment:\n",
    "conda install pandas"
   ]
  },
  {
   "cell_type": "code",
   "execution_count": 3,
   "metadata": {},
   "outputs": [
    {
     "data": {
      "text/html": [
       "<div>\n",
       "<style scoped>\n",
       "    .dataframe tbody tr th:only-of-type {\n",
       "        vertical-align: middle;\n",
       "    }\n",
       "\n",
       "    .dataframe tbody tr th {\n",
       "        vertical-align: top;\n",
       "    }\n",
       "\n",
       "    .dataframe thead th {\n",
       "        text-align: right;\n",
       "    }\n",
       "</style>\n",
       "<table border=\"1\" class=\"dataframe\">\n",
       "  <thead>\n",
       "    <tr style=\"text-align: right;\">\n",
       "      <th></th>\n",
       "      <th>gene_name</th>\n",
       "      <th>gene_length</th>\n",
       "      <th>patient_1</th>\n",
       "      <th>patient_2</th>\n",
       "      <th>patient_3</th>\n",
       "      <th>patient_4</th>\n",
       "      <th>patient_5</th>\n",
       "      <th>patient_6</th>\n",
       "      <th>patient_7</th>\n",
       "      <th>patient_8</th>\n",
       "      <th>patient_9</th>\n",
       "      <th>patient_10</th>\n",
       "    </tr>\n",
       "  </thead>\n",
       "  <tbody>\n",
       "    <tr>\n",
       "      <th>0</th>\n",
       "      <td>A1BG</td>\n",
       "      <td>3931</td>\n",
       "      <td>1272.36</td>\n",
       "      <td>452.96</td>\n",
       "      <td>288.06</td>\n",
       "      <td>400.11</td>\n",
       "      <td>420.46</td>\n",
       "      <td>877.59</td>\n",
       "      <td>402.77</td>\n",
       "      <td>559.20</td>\n",
       "      <td>269.59</td>\n",
       "      <td>586.66</td>\n",
       "    </tr>\n",
       "    <tr>\n",
       "      <th>1</th>\n",
       "      <td>A1CF</td>\n",
       "      <td>2409</td>\n",
       "      <td>0.00</td>\n",
       "      <td>0.00</td>\n",
       "      <td>0.00</td>\n",
       "      <td>1.00</td>\n",
       "      <td>0.00</td>\n",
       "      <td>0.00</td>\n",
       "      <td>0.00</td>\n",
       "      <td>0.00</td>\n",
       "      <td>0.00</td>\n",
       "      <td>0.00</td>\n",
       "    </tr>\n",
       "    <tr>\n",
       "      <th>2</th>\n",
       "      <td>A2BP1</td>\n",
       "      <td>5897</td>\n",
       "      <td>0.00</td>\n",
       "      <td>0.00</td>\n",
       "      <td>0.00</td>\n",
       "      <td>0.00</td>\n",
       "      <td>1.00</td>\n",
       "      <td>0.00</td>\n",
       "      <td>0.00</td>\n",
       "      <td>0.00</td>\n",
       "      <td>0.00</td>\n",
       "      <td>0.00</td>\n",
       "    </tr>\n",
       "    <tr>\n",
       "      <th>3</th>\n",
       "      <td>A2LD1</td>\n",
       "      <td>2825</td>\n",
       "      <td>164.38</td>\n",
       "      <td>552.43</td>\n",
       "      <td>201.83</td>\n",
       "      <td>165.12</td>\n",
       "      <td>95.75</td>\n",
       "      <td>636.63</td>\n",
       "      <td>241.56</td>\n",
       "      <td>30.82</td>\n",
       "      <td>105.44</td>\n",
       "      <td>239.19</td>\n",
       "    </tr>\n",
       "    <tr>\n",
       "      <th>4</th>\n",
       "      <td>A2ML1</td>\n",
       "      <td>6303</td>\n",
       "      <td>27.00</td>\n",
       "      <td>0.00</td>\n",
       "      <td>0.00</td>\n",
       "      <td>0.00</td>\n",
       "      <td>8.00</td>\n",
       "      <td>0.00</td>\n",
       "      <td>1.00</td>\n",
       "      <td>763.00</td>\n",
       "      <td>0.00</td>\n",
       "      <td>0.00</td>\n",
       "    </tr>\n",
       "  </tbody>\n",
       "</table>\n",
       "</div>"
      ],
      "text/plain": [
       "  gene_name  gene_length  patient_1  patient_2  patient_3  patient_4  \\\n",
       "0      A1BG         3931    1272.36     452.96     288.06     400.11   \n",
       "1      A1CF         2409       0.00       0.00       0.00       1.00   \n",
       "2     A2BP1         5897       0.00       0.00       0.00       0.00   \n",
       "3     A2LD1         2825     164.38     552.43     201.83     165.12   \n",
       "4     A2ML1         6303      27.00       0.00       0.00       0.00   \n",
       "\n",
       "   patient_5  patient_6  patient_7  patient_8  patient_9  patient_10  \n",
       "0     420.46     877.59     402.77     559.20     269.59      586.66  \n",
       "1       0.00       0.00       0.00       0.00       0.00        0.00  \n",
       "2       1.00       0.00       0.00       0.00       0.00        0.00  \n",
       "3      95.75     636.63     241.56      30.82     105.44      239.19  \n",
       "4       8.00       0.00       1.00     763.00       0.00        0.00  "
      ]
     },
     "execution_count": 3,
     "metadata": {},
     "output_type": "execute_result"
    }
   ],
   "source": [
    "#Import the pandas library and use it to read the local csv file with the data. df.head() gives you the top 5 rows.\n",
    "import pandas as pd\n",
    "df = pd.read_csv('Melanoma_ExpressionData.csv', index_col=0)\n",
    "df.head()"
   ]
  },
  {
   "cell_type": "code",
   "execution_count": 4,
   "metadata": {},
   "outputs": [
    {
     "name": "stdout",
     "output_type": "stream",
     "text": [
      "<class 'pandas.core.frame.DataFrame'>\n",
      "Int64Index: 20500 entries, 0 to 20499\n",
      "Data columns (total 12 columns):\n",
      " #   Column       Non-Null Count  Dtype  \n",
      "---  ------       --------------  -----  \n",
      " 0   gene_name    20500 non-null  object \n",
      " 1   gene_length  20500 non-null  int64  \n",
      " 2   patient_1    20500 non-null  float64\n",
      " 3   patient_2    20500 non-null  float64\n",
      " 4   patient_3    20500 non-null  float64\n",
      " 5   patient_4    20500 non-null  float64\n",
      " 6   patient_5    20500 non-null  float64\n",
      " 7   patient_6    20500 non-null  float64\n",
      " 8   patient_7    20500 non-null  float64\n",
      " 9   patient_8    20500 non-null  float64\n",
      " 10  patient_9    20500 non-null  float64\n",
      " 11  patient_10   20500 non-null  float64\n",
      "dtypes: float64(10), int64(1), object(1)\n",
      "memory usage: 2.0+ MB\n"
     ]
    }
   ],
   "source": [
    "# Some more info on the data\n",
    "df.info()"
   ]
  },
  {
   "cell_type": "code",
   "execution_count": 5,
   "metadata": {},
   "outputs": [
    {
     "name": "stdout",
     "output_type": "stream",
     "text": [
      "dict_keys(['gene_name', 'gene_length', 'patient_1', 'patient_2', 'patient_3', 'patient_4', 'patient_5', 'patient_6', 'patient_7', 'patient_8', 'patient_9', 'patient_10']) <class 'list'> 20500\n"
     ]
    }
   ],
   "source": [
    "# turning this data into dictionary format\n",
    "samples = df.to_dict(orient = 'list')\n",
    "print(samples.keys(), type(samples['gene_name']), len(samples['gene_name']))\n"
   ]
  },
  {
   "attachments": {},
   "cell_type": "markdown",
   "metadata": {},
   "source": [
    "The aim of todays session is to find the gene with maximum expression in each of these samples. To do this we have to first normalise the data.\n",
    "\n",
    "### Normalizing Over Samples and Genes: RPKM\n",
    "\n",
    "One of the simplest normalization methods for RNAseq data is RPKM: reads per\n",
    "kilobase transcript per million reads.\n",
    "RPKM puts together the ideas of normalizing by sample and by gene.\n",
    "When we calculate RPKM, we are normalizing for both the library size (the sum of each column)\n",
    "and the gene length.\n",
    "\n",
    "To work through how RPKM is derived, let's define the following values:\n",
    "\n",
    "- $C$ = Number of reads mapped to a gene\n",
    "- $L$ = Exon length in base-pairs for a gene\n",
    "- $N$ = Total mapped reads in the experiment\n",
    "\n",
    "First, let's calculate reads per kilobase.\n",
    "\n",
    "Reads per base would be:\n",
    "$\\frac{C}{L}$\n",
    "\n",
    "The formula asks for reads per kilobase instead of reads per base.\n",
    "One kilobase = 1,000 bases, so we'll need to divide length (L) by 1,000.\n",
    "\n",
    "Reads per kilobase would be:\n",
    "\n",
    "$\\frac{C}{L/1000}  = \\frac{10^3C}{L}$\n",
    "\n",
    "Next, we need to normalize by library size.\n",
    "If we just divide by the number of mapped reads we get:\n",
    "\n",
    "$ \\frac{10^3C}{LN} $\n",
    "\n",
    "But biologists like thinking in millions of reads so that the numbers don't get\n",
    "too small. Counting per million reads we get:\n",
    "\n",
    "$ \\frac{10^3C}{L(N/10^6)} = \\frac{10^9C}{LN}$\n",
    "\n",
    "\n",
    "In summary, to calculate reads per kilobase transcript per million reads:\n",
    "$RPKM = \\frac{10^9C}{LN}$\n",
    "\n",
    "Now let's implement RPKM over the entire counts array.\n",
    "\n"
   ]
  },
  {
   "cell_type": "code",
   "execution_count": null,
   "metadata": {},
   "outputs": [
    {
     "name": "stdout",
     "output_type": "stream",
     "text": [
      " original value = 1272.36, normed = 7.79183928027979\n"
     ]
    }
   ],
   "source": [
    "C = samples['patient_1'][0]\n",
    "N = sum(samples['patient_1'])\n",
    "L = samples['gene_length'][0]\n",
    "normed = 1e9 * C / (N*L)\n",
    "print(f\" original value = {samples['patient_1'][0]}, normed = {normed}\")\n"
   ]
  },
  {
   "cell_type": "markdown",
   "metadata": {},
   "source": []
  }
 ],
 "metadata": {
  "kernelspec": {
   "display_name": "python-course",
   "language": "python",
   "name": "python3"
  },
  "language_info": {
   "codemirror_mode": {
    "name": "ipython",
    "version": 3
   },
   "file_extension": ".py",
   "mimetype": "text/x-python",
   "name": "python",
   "nbconvert_exporter": "python",
   "pygments_lexer": "ipython3",
   "version": "3.10.8"
  },
  "orig_nbformat": 4,
  "vscode": {
   "interpreter": {
    "hash": "744a1aef5edc0e4f14eea489c6279434a9b0b714cfb9cad7e40f011f0d07e560"
   }
  }
 },
 "nbformat": 4,
 "nbformat_minor": 2
}
